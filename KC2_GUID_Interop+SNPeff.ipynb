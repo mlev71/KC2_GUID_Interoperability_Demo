{
 "cells": [
  {
   "cell_type": "markdown",
   "metadata": {},
   "source": [
    "# KC2 GUID Interoperability Demo\n",
    "\n",
    "### Date\n",
    "Oct 12, 2018\n",
    "\n",
    "### Authors\n",
    "Max Levinson & Tim Clark, University of Virginia (Team Sodium)\n",
    "\n",
    "Kyle Chard, University of Chicago (Team Argon)\n",
    "\n",
    "Martin Fenner, Datacite (Team Sodium)\n",
    "\n",
    "Isma Gilani & Ray Idaszak, UNC Chapel Hill (Team Helium)\n",
    "\n",
    "Gareth Harvey & Gabriel Oscares, Elsevier (Team Xenon)\n",
    "\n",
    "Zachary Flamig, Garret Rupp & Pauline Ribeyre, University of Chicago (Team Calcium) \n",
    "\n",
    "### Abstract\n",
    "This notebook outlines how the KC2 working group common metadata model, identifer services, and content negotiation enable interoperability on data objects between commons participants. In phase 2 we plan to extend this capability to all digital objects in the commons.\n",
    "\n",
    "Specifically, we show how two identifier types (DOIs and Minids/ARKs) minted by three commons teams (Helium, Sodium, and Argon) can be used interchangably. We show that given either identifier type we can resolve, interpret the metadata, and then download the data irrespective of the identifier type or stack on which the identifier was minted.\n",
    "\n",
    "We then show how new identifiers can be minted and registered using the Argon Identifiers service and the Sodium ORS service."
   ]
  },
  {
   "cell_type": "markdown",
   "metadata": {},
   "source": []
  },
  {
   "cell_type": "code",
   "execution_count": 1,
   "metadata": {},
   "outputs": [],
   "source": [
    "import requests\n",
    "import json\n",
    "import hashlib"
   ]
  },
  {
   "cell_type": "markdown",
   "metadata": {},
   "source": [
    "## Topmed DOI Identifiers\n",
    "\n",
    "Datacite DOI's have been registered for all TOPMed public and private files by Martin Fenner of Datacite.\n",
    "\n",
    "Only public TOPMed metadata specifies the object locations at present.\n",
    "\n",
    "We begin the demo with a selected public TOPMed DOI, which we will resolve to obtain the object location and other metadata."
   ]
  },
  {
   "cell_type": "code",
   "execution_count": 2,
   "metadata": {},
   "outputs": [],
   "source": [
    "identifier = \"10.23725/ttff-7p47\"       # TOPMed DOI for CRAM"
   ]
  },
  {
   "cell_type": "code",
   "execution_count": 3,
   "metadata": {},
   "outputs": [],
   "source": [
    "cram_metadata = requests.get(\n",
    "    'https://doi.org/'+identifier,\n",
    "    headers = {'Accept': 'application/json'}\n",
    ")"
   ]
  },
  {
   "cell_type": "code",
   "execution_count": 4,
   "metadata": {},
   "outputs": [
    {
     "data": {
      "text/plain": [
       "{'@context': 'http://schema.org',\n",
       " '@type': 'Dataset',\n",
       " '@id': 'https://doi.org/10.23725/ttff-7p47',\n",
       " 'identifier': [{'@type': 'PropertyValue',\n",
       "   'propertyID': 'doi',\n",
       "   'value': 'https://doi.org/10.23725/ttff-7p47'},\n",
       "  {'@type': 'PropertyValue',\n",
       "   'propertyID': 'minid',\n",
       "   'value': 'ark:/99999/fk41KzQJxPHEjuMd'},\n",
       "  {'@type': 'PropertyValue',\n",
       "   'propertyID': 'dataguid',\n",
       "   'value': 'dg.4503/81d07e56-9521-407a-b840-b80dd0c291f0'},\n",
       "  {'@type': 'PropertyValue',\n",
       "   'propertyID': 'md5',\n",
       "   'value': '9c02f9b2d91059675e59c9485aac7191'}],\n",
       " 'url': 'https://ors.datacite.org/doi:/10.23725/ttff-7p47',\n",
       " 'additionalType': 'CRAM file',\n",
       " 'name': 'NWD580039.recab.cram',\n",
       " 'author': {'name': 'TOPMed'},\n",
       " 'description': 'TOPMed: NWD580039 <br>HapMap_1000G: NA12878 <br>Seq Ctr: Broad <br>File:  CRAM file',\n",
       " 'keywords': 'topmed, whole genome sequencing',\n",
       " 'datePublished': '2017-11-30',\n",
       " 'contentUrl': ['s3://cgp-commons-public/topmed_open_access/96c790a1-ebdb-5eff-9b71-b1c114c7f01a/NWD580039.recab.cram',\n",
       "  'gs://topmed-irc-share/public/NWD580039.recab.cram',\n",
       "  'dos://dos.commons.ucsc-cgp.org/81d07e56-9521-407a-b840-b80dd0c291f0?version=2018-05-26T133722.648668Z'],\n",
       " 'schemaVersion': 'http://datacite.org/schema/kernel-4',\n",
       " 'publisher': {'@type': 'Organization', 'name': 'TOPMed'},\n",
       " 'funding': {'@type': 'Organization',\n",
       "  '@id': 'https://doi.org/10.13039/100000050',\n",
       "  'name': 'National Heart, Lung, and Blood Institute (NHLBI)'},\n",
       " 'provider': {'@type': 'Organization', 'name': 'DataCite'},\n",
       " 'fileFormat': ['text/plain ']}"
      ]
     },
     "execution_count": 4,
     "metadata": {},
     "output_type": "execute_result"
    }
   ],
   "source": [
    "cram_metadata.json()"
   ]
  },
  {
   "cell_type": "markdown",
   "metadata": {},
   "source": [
    "### Helium-Created VCF File\n",
    "\n",
    "Computational Biologists at team Helium resolved this DOI to the object contents and from those contents computed a VCF file.\n",
    "\n",
    "We then created and minted an Ark/Minid using the Argon Identifier service and a DOI using the Sodium ORS service (not shown here).\n",
    "\n",
    "We then demonstrate interoperability for the JSON-LD Schema.org metadata registered with these identifiers.\n",
    "The metadata returned share a common schema across identifier types which is a core component of interoperability.\n",
    "Additionally both identifiers can be used to programatically access the file and verify the integrity of the contents via the checksum."
   ]
  },
  {
   "cell_type": "code",
   "execution_count": 13,
   "metadata": {},
   "outputs": [],
   "source": [
    "# identifier to resolve \n",
    "#identifier = \"doi:/10.25489/DC4YZZ\"          # Helium DOI for VCF\n",
    "identifier = \"ark:/57799/b91CbVyWo5PEQ9j\"   # Argon Minid/ARK for VCF"
   ]
  },
  {
   "cell_type": "markdown",
   "metadata": {},
   "source": [
    "### 1) Resolve identifier\n",
    "\n",
    "All commons identifiers are registered in global resolvers (e.g., n2t.net, doi.org, and identifiers.org). This allows any user, without knowledge of where an identifier was minted, to be able to resolve the identiifer and obtain a reference to its landing service/page. \n",
    "\n",
    "The resolver replies with an HTTP 302 message and a redirect URL that can be followed to locate the landing service/page."
   ]
  },
  {
   "cell_type": "code",
   "execution_count": 14,
   "metadata": {},
   "outputs": [
    {
     "name": "stdout",
     "output_type": "stream",
     "text": [
      "302 https://identifiers.globus.org/ark:/57799/b91CbVyWo5PEQ9j\n"
     ]
    }
   ],
   "source": [
    "r = requests.get('http://n2t.net/%s' % identifier, allow_redirects=False)\n",
    "print(r.status_code, r.headers['Location'])"
   ]
  },
  {
   "cell_type": "markdown",
   "metadata": {},
   "source": [
    "### 2) Obtain Core Metadata\n",
    "\n",
    "KC2 has agreed on content negotiation as the means to choose between a human readable (HTML) landing page and a machine readable (JSON-LD) landing page. A landing page should contain embedded Schema.org JSON-LD for indexing by crawlers. To access the machine readable page we set the accepts header to JSON-LD using the schema.org metadata schema."
   ]
  },
  {
   "cell_type": "code",
   "execution_count": 7,
   "metadata": {},
   "outputs": [
    {
     "name": "stdout",
     "output_type": "stream",
     "text": [
      "{\"@context\": \"http://schema.org\", \"@type\": \"Dataset\", \"@id\": \"https://doi.org/10.25489/dc4yzz\", \"identifier\": [{\"@type\": \"PropertyValue\", \"propertyID\": \"doi\", \"value\": \"https://doi.org/10.25489/dc4yzz\"}, {\"@type\": \"PropertyValue\", \"propertyID\": \"sha256\", \"value\": \"0deb9c69ce87af37937d87df3ec3d0c0b2e7501a4600f34d214685d9dbaf0207\"}], \"additionalType\": \"XML\", \"name\": \"Helium VCF Bag for KC2 Demo\", \"author\": {\"name\": \"Isma Gilani\"}, \"datePublished\": \"2018\", \"schemaVersion\": \"http://datacite.org/schema/kernel-4\", \"publisher\": {\"@type\": \"Organization\", \"name\": \"KC2\"}, \"contentUrl\": [\"https://helium.commonsshare.org/django_irods/download/bags/d8088f48bef4408cbc7acb8063ba7a72.zip\"], \"fileFormat\": [\"application/gzip\"]}\n"
     ]
    }
   ],
   "source": [
    "headers= {'Accept': 'application/vnd.schemaorg.ld+json'}\n",
    "#headers = {'Accept': 'application/json'}\n",
    " \n",
    "r = requests.get('http://n2t.net/%s' % identifier, headers=headers)\n",
    " \n",
    "if r.status_code == 200:\n",
    "    metadata = r.json()\n",
    "    print(json.dumps(metadata))\n",
    "else:\n",
    "    print (\"Error getting identifier metadata (HTTP %s)\" % r.status_code)"
   ]
  },
  {
   "cell_type": "markdown",
   "metadata": {},
   "source": [
    "### 3) Validate Core Metadata\n",
    "\n",
    "All commons identifiers provide metadata following the schema.org schema elements. Before using the metadata we can first validate that it conforms to the schema.org Dataset schema. \n",
    "\n",
    "Validation is performed here using the [Google Structured Data Testing Tool](https://search.google.com/structured-data/testing-tool) , using the graphical interface and cut and pasting the metadata listed above.\n",
    "\n",
    "Warnings for contentUrl are not significant but will be addressed in phase 2, by coordinating with the Schema.org maintainers and Google Dataset Search team.\n",
    "\n"
   ]
  },
  {
   "cell_type": "markdown",
   "metadata": {},
   "source": [
    "### 4) Download and validate content\n",
    "\n",
    "Finally, we can introspect the metadata to discover information about the identified object. This metadata includes one or more locations at which the data is avaialble as well as a checksum that can be used to validate the integrity of the data."
   ]
  },
  {
   "cell_type": "code",
   "execution_count": 71,
   "metadata": {},
   "outputs": [
    {
     "data": {
      "text/plain": [
       "('d8088f48bef4408cbc7acb8063ba7a72.zip',\n",
       " <http.client.HTTPMessage at 0x10fd84470>)"
      ]
     },
     "execution_count": 71,
     "metadata": {},
     "output_type": "execute_result"
    }
   ],
   "source": [
    "import urllib.request\n",
    "download_file = metadata['contentUrl'][0].split('/')[-1]\n",
    "urllib.request.urlretrieve(metadata['contentUrl'][0], download_file)"
   ]
  },
  {
   "cell_type": "code",
   "execution_count": 72,
   "metadata": {},
   "outputs": [],
   "source": [
    "checksum = {}\n",
    "for i in metadata['identifier']:\n",
    "    if isinstance(i, dict): \n",
    "        if i.get('propertyID') == 'sha256':\n",
    "            checksum['sha256'] = i['value']"
   ]
  },
  {
   "cell_type": "code",
   "execution_count": 73,
   "metadata": {},
   "outputs": [
    {
     "name": "stdout",
     "output_type": "stream",
     "text": [
      "0deb9c69ce87af37937d87df3ec3d0c0b2e7501a4600f34d214685d9dbaf0207\n",
      "0deb9c69ce87af37937d87df3ec3d0c0b2e7501a4600f34d214685d9dbaf0207\n"
     ]
    }
   ],
   "source": [
    "contents = open(download_file, 'rb').read()\n",
    "\n",
    "print(hashlib.sha256(contents).hexdigest())\n",
    "print(checksum['sha256'])"
   ]
  },
  {
   "cell_type": "markdown",
   "metadata": {},
   "source": [
    "### 5) Resolving a Dataguid\n",
    "\n",
    "Using the team calcium gen3 package we can resolve a Dataguid to obtain the object metadata\n",
    "\n",
    "The indexd service returns dataguids metadata in native form. These are then passed to a translation interface at dcp.bionimbus.org which produces valid JSON-LD Schema.org.\n",
    "\n",
    "In phase 2 we plan to handle this translation via content negotiation."
   ]
  },
  {
   "cell_type": "code",
   "execution_count": 16,
   "metadata": {},
   "outputs": [],
   "source": [
    "import gen3\n",
    "import shutil\n",
    "from gen3.indexclient.client import IndexClient"
   ]
  },
  {
   "cell_type": "code",
   "execution_count": 17,
   "metadata": {},
   "outputs": [],
   "source": [
    "identifier = \"dg.4503/33ceb094-68f0-4aed-8fd2-c1f3ff169254\""
   ]
  },
  {
   "cell_type": "code",
   "execution_count": 18,
   "metadata": {},
   "outputs": [],
   "source": [
    "indexHost = 'https://dataguids.org/index/'\n",
    "indexVersion = 'v0',\n",
    "ic = IndexClient(indexHost, indexVersion)"
   ]
  },
  {
   "cell_type": "code",
   "execution_count": 19,
   "metadata": {},
   "outputs": [],
   "source": [
    "doc = ic.global_get(identifier)\n",
    "response = doc.to_json()\n",
    "host = response.get('from_index_service').get('host').replace('index/', 'coremetadata/')"
   ]
  },
  {
   "cell_type": "code",
   "execution_count": 20,
   "metadata": {},
   "outputs": [
    {
     "name": "stdout",
     "output_type": "stream",
     "text": [
      "{\n",
      "    \"@context\": \"http://schema.org\",\n",
      "    \"@id\": \"https://dataguids.org/index/dg.4503/33ceb094-68f0-4aed-8fd2-c1f3ff169254\",\n",
      "    \"@type\": \"Dataset\",\n",
      "    \"additionalType\": \"submitted_aligned_reads\",\n",
      "    \"author\": {\n",
      "        \"name\": \"Francisco Ortuno\"\n",
      "    },\n",
      "    \"datePublished\": \"2018-06-22T17:00:20.893899+00:00\",\n",
      "    \"description\": \"TopMED Open Access Aligned Reads\",\n",
      "    \"identifier\": [\n",
      "        {\n",
      "            \"@type\": \"PropertyValue\",\n",
      "            \"propertyID\": \"dataguid\",\n",
      "            \"value\": \"dg.4503/33ceb094-68f0-4aed-8fd2-c1f3ff169254\"\n",
      "        },\n",
      "        {\n",
      "            \"@type\": \"PropertyValue\",\n",
      "            \"propertyID\": \"md5\",\n",
      "            \"value\": \"785c3fc4497e7bb3b7273ddd17071d68\"\n",
      "        }\n",
      "    ],\n",
      "    \"name\": \"NWD231092.0005.recab.cram\",\n",
      "    \"publisher\": {\n",
      "        \"@type\": \"Organization\",\n",
      "        \"name\": \"DCP Data Commons\"\n",
      "    }\n",
      "}\n"
     ]
    }
   ],
   "source": [
    "from gen3.auth import Gen3Auth\n",
    "auth = Gen3Auth('https://dcp.bionimbus.org/' , \n",
    "                refresh_file = 'credentials.json')\n",
    "headers = {'Accept': 'application/vnd.schemaorg.ld+json'}\n",
    "r = requests.get(host + identifier, headers=headers, auth=auth)\n",
    "\n",
    "if r.status_code == 200:\n",
    "    metadata = r.json()\n",
    "    print(json.dumps(metadata, sort_keys=True, indent=4))\n",
    "else:\n",
    "    print (\"Error getting identifier metadata (HTTP %s)\" % r.status_code)    "
   ]
  },
  {
   "cell_type": "markdown",
   "metadata": {},
   "source": [
    "### 6) Compact Identifier Resolution\n",
    "\n",
    "Because an appropriate namespace has been defined in Identifiers.org, we may represent the minid as a Compact Identifier and resolve it at identifiers.org or n2t.net."
   ]
  },
  {
   "cell_type": "code",
   "execution_count": 21,
   "metadata": {},
   "outputs": [
    {
     "data": {
      "text/plain": [
       "{'@context': 'http://schema.org',\n",
       " '@id': 'https://identifiers.globus.org/ark:/57799/b91CbVyWo5PEQ9j',\n",
       " '@type': 'Dataset',\n",
       " 'contentUrl': ['https://helium.commonsshare.org/django_irods/download/bags/d8088f48bef4408cbc7acb8063ba7a72.zip'],\n",
       " 'dateCreated': '2018-10-05 02:02:09.887625',\n",
       " 'identifier': [{'@type': 'PropertyValue',\n",
       "   'propertyID': 'sha256',\n",
       "   'value': '0deb9c69ce87af37937d87df3ec3d0c0b2e7501a4600f34d214685d9dbaf0207'}],\n",
       " 'url': 'https://identifiers.globus.org/ark:/57799/b91CbVyWo5PEQ9j'}"
      ]
     },
     "execution_count": 21,
     "metadata": {},
     "output_type": "execute_result"
    }
   ],
   "source": [
    "compact_identifier = \"minid:b91CbVyWo5PEQ9j\" \n",
    "r = requests.get('http://identifiers.org/%s' % compact_identifier, allow_redirects=True,\n",
    "                headers = {'Accept': 'application/vnd.schemaorg.ld+json'})\n",
    "r.json()"
   ]
  },
  {
   "cell_type": "markdown",
   "metadata": {},
   "source": [
    "# Create a new GUID\n",
    "\n",
    "In this section we will demonstrate how to create and register a new identifier using three of the Commons GUID services for two different identifier types. \n",
    "\n",
    "First we'll create a file and then we will compute a checksum and create some basic metadata for our new identifier."
   ]
  },
  {
   "cell_type": "markdown",
   "metadata": {},
   "source": [
    "#### 1) Create and Upload File\n",
    "\n",
    "Recall that we downloaded a compressed BDBag containing our VCF file, \"d8088f48bef4408cbc7acb8063ba7a72.zip\". We unzip it and then using the bdbag utilities we fetch the VCF file we need, and verify the checksum on the file.\n",
    "\n",
    "Then using the package [SnpEff](http://snpeff.sourceforge.net/index.html) we annotate the VCF file, and upload the annotated VCF to the cloud "
   ]
  },
  {
   "cell_type": "code",
   "execution_count": 1,
   "metadata": {},
   "outputs": [
    {
     "name": "stdout",
     "output_type": "stream",
     "text": [
      "Archive:  d8088f48bef4408cbc7acb8063ba7a72.zip\r\n",
      "  inflating: bag/manifest-sha256.txt  \r\n",
      "  inflating: bag/fetch.txt           \r\n",
      "  inflating: bag/bagit.txt           \r\n",
      "  inflating: bag/bag-info.txt        \r\n",
      "  inflating: bag/tagmanifest-md5.txt  \r\n",
      "  inflating: bag/tagmanifest-sha256.txt  \r\n"
     ]
    }
   ],
   "source": [
    "! unzip d8088f48bef4408cbc7acb8063ba7a72.zip"
   ]
  },
  {
   "cell_type": "code",
   "execution_count": 2,
   "metadata": {
    "scrolled": true
   },
   "outputs": [
    {
     "name": "stdout",
     "output_type": "stream",
     "text": [
      "\n",
      "2018-10-12 14:08:38,329 - INFO - Attempting to resolve remote file references from fetch.txt...\n",
      "2018-10-12 14:08:38,335 - INFO - Attempting GET from URL: https://helium.commonsshare.org/django_irods/download/d8088f48bef4408cbc7acb8063ba7a72/commonssharetestZone/topmed/public/vcfs/NWD580039.recab.vcf\n",
      "2018-10-12 14:09:31,100 - INFO - File [/Users/tim/Jupyter/bag/data/NWD580039.recab.vcf] transfer successful. 742.841 MB transferred at 14.491 MB/second. Elapsed time: 0:00:51.263885. \n",
      "2018-10-12 14:09:31,101 - INFO - Fetch complete. Elapsed time: 0:00:52.766775\n",
      "\n"
     ]
    }
   ],
   "source": [
    "! bdbag --resolve-fetch all bag"
   ]
  },
  {
   "cell_type": "code",
   "execution_count": 3,
   "metadata": {},
   "outputs": [
    {
     "name": "stdout",
     "output_type": "stream",
     "text": [
      "\n",
      "2018-10-12 14:09:36,840 - INFO - Validating bag: /Users/tim/Jupyter/bag\n",
      "2018-10-12 14:09:36,843 - INFO - Verifying checksum for file /Users/tim/Jupyter/bag/data/NWD580039.recab.vcf\n",
      "2018-10-12 14:09:40,072 - INFO - Verifying checksum for file /Users/tim/Jupyter/bag/manifest-sha256.txt\n",
      "2018-10-12 14:09:40,073 - INFO - Verifying checksum for file /Users/tim/Jupyter/bag/fetch.txt\n",
      "2018-10-12 14:09:40,073 - INFO - Verifying checksum for file /Users/tim/Jupyter/bag/bagit.txt\n",
      "2018-10-12 14:09:40,073 - INFO - Verifying checksum for file /Users/tim/Jupyter/bag/bag-info.txt\n",
      "2018-10-12 14:09:40,074 - INFO - Bag /Users/tim/Jupyter/bag is valid\n",
      "\n"
     ]
    }
   ],
   "source": [
    "! bdbag --validate full bag"
   ]
  },
  {
   "cell_type": "markdown",
   "metadata": {},
   "source": [
    "The following command is for reference - it was used to generate the VCF annotation - which takes quite a while, so we will not perform it in real time here. The cloud upload step as well, has already been performed. "
   ]
  },
  {
   "cell_type": "code",
   "execution_count": 4,
   "metadata": {},
   "outputs": [],
   "source": [
    "#! java -Xmx4g -jar snpEFF/snpeff_latest_core/snpEff/snpEff.jar GRCh37.75 bag/data/NWD580039.recab.vcf > NWD580039.ann.vcf"
   ]
  },
  {
   "cell_type": "markdown",
   "metadata": {},
   "source": [
    "#### 2) Compute the Checksum"
   ]
  },
  {
   "cell_type": "code",
   "execution_count": 5,
   "metadata": {},
   "outputs": [],
   "source": [
    "import hashlib\n",
    "import os\n",
    "import datetime\n",
    "\n",
    "filename = 'NWD580039.ann.vcf'\n",
    "\n",
    "algorithm = hashlib.sha256()\n",
    "with open(os.path.abspath(filename), 'rb') as open_file:\n",
    "    buf = open_file.read(65536)\n",
    "    while len(buf) > 0:\n",
    "        algorithm.update(buf)\n",
    "        buf = open_file.read(65536)\n",
    "    checksum = algorithm.hexdigest()"
   ]
  },
  {
   "cell_type": "code",
   "execution_count": 6,
   "metadata": {},
   "outputs": [
    {
     "data": {
      "text/plain": [
       "'eba8426f9662f3b4ad7e16d481c640d02cd341125198297fe56c7ead571a57db'"
      ]
     },
     "execution_count": 6,
     "metadata": {},
     "output_type": "execute_result"
    }
   ],
   "source": [
    "checksum"
   ]
  },
  {
   "cell_type": "markdown",
   "metadata": {},
   "source": [
    "#### 3) Fill out Metadata"
   ]
  },
  {
   "cell_type": "code",
   "execution_count": 36,
   "metadata": {},
   "outputs": [],
   "source": [
    "data = {\n",
    "    \"@context\": \"https://schema.org\", \n",
    "    \"@type\": \"Dataset\", \n",
    "    \"identifier\": [\n",
    "        { \n",
    "            \"@type\": \"PropertyValue\", \"propertyID\": \"sha256\", \"value\": checksum\n",
    "        }],\n",
    "    \"name\": 'NWD580039.ann.vcf', \n",
    "    \"author\": [{\"@type\": \"Person\", \"name\": 'Tim Clark'}], \n",
    "    \"publisher\": [{\"@type\": \"Organization\", \"name\": \"KC2\"}], \n",
    "    \"datePublished\":  '2018', \n",
    "    \"fileFormat\": \"text/plain\",\n",
    "    \"additionalType\": \"vcf\",\n",
    "    \"contentSize\": os.path.getsize(filename),\n",
    "    \"contentUrl\": [\"https://drive.google.com/file/d/1y4ws6lHRzNhI-KlaS4qfaXfQefWPEgnX/\"],\n",
    "}"
   ]
  },
  {
   "cell_type": "markdown",
   "metadata": {},
   "source": [
    "#### 4) Authenticate Via Globus Auth\n",
    "\n",
    "Using the globus auth service, we obtain scoped authentication tokens from an Oauth2 flow. This allows service to service authentication by granting tokens on behalf of another service. In this example a client application grants tokens for the Argon Identifier Service and the Sodium ORS service."
   ]
  },
  {
   "cell_type": "code",
   "execution_count": 10,
   "metadata": {},
   "outputs": [
    {
     "name": "stdout",
     "output_type": "stream",
     "text": [
      "Login Here:\n",
      "\n",
      "https://auth.globus.org/v2/oauth2/authorize?client_id=5db98a49-26d0-4991-9faf-676c2b5b4231&redirect_uri=https%3A%2F%2Fauth.globus.org%2Fv2%2Fweb%2Fauth-code&scope=https%3A%2F%2Fauth.globus.org%2Fscopes%2Fidentifiers.globus.org%2Fcreate_update+https%3A%2F%2Fauth.globus.org%2Fscopes%2Fe94d4c43-ff3e-4032-8e1e-b29c99ef614a%2Fors&state=_default&response_type=code&code_challenge=0p2NsN3TR03Fx-ai_eXa7oNI_LtRKY_eV1qMfHnwQIQ&code_challenge_method=S256&access_type=online\n",
      "\n",
      "\n",
      "Note that this link can only be used once! If login or a later step in the flow fails, you must restart it.\n",
      "Enter resulting code:AR1tgPcmdjyeHfF5ZnAdK5WcEW0ddc\n"
     ]
    }
   ],
   "source": [
    "import datetime\n",
    "import globus_sdk\n",
    "from identifiers_client.identifiers_api import IdentifierClient\n",
    "from identifiers_client.config import config\n",
    "\n",
    "identifiers_namespace = \"HHxPIZaVDh9u\"\n",
    "\n",
    "CLIENT_ID = '5db98a49-26d0-4991-9faf-676c2b5b4231'\n",
    "\n",
    "# python2/3 safe simple input reading\n",
    "get_input = getattr(__builtins__, 'raw_input', input)\n",
    "\n",
    "# Perform OAuth flow to get access tokens\n",
    "native_auth_client = globus_sdk.NativeAppAuthClient(CLIENT_ID)\n",
    "transfer_scope = 'urn:globus:auth:scope:transfer.api.globus.org:all'\n",
    "\n",
    "# required scopes\n",
    "identifiers_scope = 'https://auth.globus.org/scopes/identifiers.globus.org/create_update'\n",
    "ors_scope =  'https://auth.globus.org/scopes/e94d4c43-ff3e-4032-8e1e-b29c99ef614a/ors'\n",
    "\n",
    "native_auth_client.oauth2_start_flow(\n",
    "    requested_scopes=[identifiers_scope, ors_scope]\n",
    ")\n",
    "print(\"Login Here:\\n\\n{0}\".format(native_auth_client.oauth2_get_authorize_url()))\n",
    "print((\"\\n\\nNote that this link can only be used once! \"\n",
    "       \"If login or a later step in the flow fails, you must restart it.\"))\n",
    "\n",
    "auth_code = get_input(\"Enter resulting code:\")\n",
    "\n",
    "tokens = native_auth_client.oauth2_exchange_code_for_tokens(auth_code)\n",
    "identifiers_token = tokens.by_scopes[identifiers_scope]['access_token']\n",
    "identifiers = IdentifierClient('identifiers', base_url='https://identifiers.globus.org/',\n",
    "    authorizer=globus_sdk.AccessTokenAuthorizer(identifiers_token))"
   ]
  },
  {
   "cell_type": "markdown",
   "metadata": {},
   "source": [
    "### Create and Register a GUID with three Services"
   ]
  },
  {
   "cell_type": "markdown",
   "metadata": {},
   "source": [
    "### 1) Argon Minids\n",
    "\n",
    "Example showing how to use the Argon Identifier Service, to mint and register an ARK/Minid by posting the metadata to the Identifier Service REST API.\n",
    "\n",
    "To run this part of the notebook you will need to install the Globus Identifiers client. Download and pip install here: https://github.com/globus/globus-identifiers-client"
   ]
  },
  {
   "cell_type": "code",
   "execution_count": 43,
   "metadata": {
    "scrolled": false
   },
   "outputs": [
    {
     "name": "stdout",
     "output_type": "stream",
     "text": [
      "https://n2t.net/ark:/99999/fk4Sp8J2cwDiV3G\n"
     ]
    }
   ],
   "source": [
    "visible_to = 'public'\n",
    "dataset_identifier = identifiers.create_identifier(\n",
    "    namespace=identifiers_namespace,\n",
    "    location=json.dumps([data['contentUrl'][0]]),\n",
    "    checksums=json.dumps([{'function' : 'sha256', 'value': data['identifier'][0]['value']}]),\n",
    "    metadata=json.dumps({\n",
    "        'title': data['name'],\n",
    "        'date': data['datePublished'],\n",
    "        'contentSize': data['contentSize'],\n",
    "        'author': data['author'][0]['name'],\n",
    "    }),\n",
    "    visible_to=json.dumps([visible_to]))\n",
    "\n",
    "print('https://n2t.net/' + dataset_identifier.data['identifier'])"
   ]
  },
  {
   "cell_type": "markdown",
   "metadata": {},
   "source": [
    "### 2) Sodium ORS\n",
    "\n",
    "Example showing how to use the Sodium Object Registration Service (ORS) to mint and register a DOI. We map our metadata to the Schema.org metadata specification and put to the ORS REST API. This API is registered with the KC3 OpenAPI registry."
   ]
  },
  {
   "cell_type": "code",
   "execution_count": 50,
   "metadata": {},
   "outputs": [],
   "source": [
    "ors_token = tokens.by_scopes[ors_scope]['access_token']"
   ]
  },
  {
   "cell_type": "code",
   "execution_count": 52,
   "metadata": {},
   "outputs": [
    {
     "name": "stdout",
     "output_type": "stream",
     "text": [
      "https://doi.org/10.25489/XPA7G1\n"
     ]
    }
   ],
   "source": [
    "headers= {\n",
    "    'Accept': 'application/json', \n",
    "    'Content-Type': 'application/json', \n",
    "    'Authorization': 'Bearer {}'.format(ors_token)\n",
    "}\n",
    "\n",
    "r = requests.put('https://ors.test.datacite.org/doi/put', \n",
    "                 headers=headers, \n",
    "                 data=json.dumps(data)\n",
    "                )\n",
    "\n",
    "print( 'https://doi.org/' + r.json().get('@id').replace('doi:/', ''))"
   ]
  },
  {
   "cell_type": "code",
   "execution_count": 53,
   "metadata": {},
   "outputs": [],
   "source": [
    "ors_get = requests.get('https://ors.test.datacite.org/' + r.json().get(\"@id\"),\n",
    "            headers={'Accept': 'application/json'})"
   ]
  },
  {
   "cell_type": "code",
   "execution_count": 54,
   "metadata": {},
   "outputs": [
    {
     "data": {
      "text/plain": [
       "{'@id': 'https://doi.org/10.25489/XPA7G1',\n",
       " '@context': 'https://schema.org',\n",
       " 'identifier': ['https://doi.org/10.25489/XPA7G1',\n",
       "  {'@type': 'PropertyValue',\n",
       "   'propertyID': 'sha256',\n",
       "   'value': 'eba8426f9662f3b4ad7e16d481c640d02cd341125198297fe56c7ead571a57db'}],\n",
       " '@type': 'Dataset',\n",
       " 'name': 'NWD580039.ann.vcf',\n",
       " 'datePublished': '2018',\n",
       " 'author': [{'name': 'Tim Clark'}],\n",
       " 'fileFormat': ['text/plain'],\n",
       " 'contentUrl': ['https://drive.google.com/file/d/1y4ws6lHRzNhI-KlaS4qfaXfQefWPEgnX/']}"
      ]
     },
     "execution_count": 54,
     "metadata": {},
     "output_type": "execute_result"
    }
   ],
   "source": [
    "json.loads(ors_get.content.decode('utf-8'))"
   ]
  },
  {
   "cell_type": "markdown",
   "metadata": {},
   "source": [
    "### 3) Xenon DOI Registration"
   ]
  },
  {
   "cell_type": "code",
   "execution_count": 55,
   "metadata": {},
   "outputs": [],
   "source": [
    "data['url'] = \"https://drive.google.com/file/d/1QCjoYimsI-zW76Bhjw18dt975ZKAaAUP/\"\n",
    "data.pop('publisher')\n",
    "data['identifier'] = ['https://example.org', data['identifier'][0] ]\n",
    "data['contentUrl'] = data['contentUrl'][0]"
   ]
  },
  {
   "cell_type": "code",
   "execution_count": 56,
   "metadata": {},
   "outputs": [],
   "source": [
    "headers= {'Accept': 'application/json', 'Content-Type': 'application/json'}\n",
    "r = requests.post(\n",
    "    'http://nih-guid-broker-elb-1813020435.eu-west-1.elb.amazonaws.com/broker/doi',\n",
    "    headers=headers, \n",
    "    data=json.dumps(data)\n",
    ")"
   ]
  },
  {
   "cell_type": "code",
   "execution_count": 57,
   "metadata": {},
   "outputs": [
    {
     "name": "stdout",
     "output_type": "stream",
     "text": [
      "https://doi.org/10.4124/test59202\n"
     ]
    }
   ],
   "source": [
    "print('https://doi.org/' + r.json().get('@id').replace('doi:/', ''))"
   ]
  },
  {
   "cell_type": "code",
   "execution_count": 58,
   "metadata": {},
   "outputs": [
    {
     "data": {
      "text/plain": [
       "{'@context': 'https://schema.org',\n",
       " '@id': '10.4124/test59202',\n",
       " '@type': 'Dataset',\n",
       " 'identifier': ['https://example.org',\n",
       "  {'@type': 'PropertyValue',\n",
       "   'propertyID': 'sha256',\n",
       "   'value': 'eba8426f9662f3b4ad7e16d481c640d02cd341125198297fe56c7ead571a57db'}],\n",
       " 'url': 'https://drive.google.com/file/d/1QCjoYimsI-zW76Bhjw18dt975ZKAaAUP/',\n",
       " 'contentUrl': 'https://drive.google.com/file/d/1y4ws6lHRzNhI-KlaS4qfaXfQefWPEgnX/',\n",
       " 'name': 'NWD580039.ann.vcf',\n",
       " 'author': [{'@type': 'Person', 'name': 'Tim Clark'}],\n",
       " 'datePublished': '2018',\n",
       " 'additionalType': 'vcf',\n",
       " 'contentSize': '2923139598',\n",
       " 'fileFormat': 'text/plain'}"
      ]
     },
     "execution_count": 58,
     "metadata": {},
     "output_type": "execute_result"
    }
   ],
   "source": [
    "get_request = requests.get(\n",
    "    'http://nih-guid-broker-elb-1813020435.eu-west-1.elb.amazonaws.com/broker/doi/'+ r.json().get('@id').replace('doi:/', '')\n",
    ")\n",
    "get_request.json()"
   ]
  }
 ],
 "metadata": {
  "kernelspec": {
   "display_name": "Python 3",
   "language": "python",
   "name": "python3"
  },
  "language_info": {
   "codemirror_mode": {
    "name": "ipython",
    "version": 3
   },
   "file_extension": ".py",
   "mimetype": "text/x-python",
   "name": "python",
   "nbconvert_exporter": "python",
   "pygments_lexer": "ipython3",
   "version": "3.7.0"
  }
 },
 "nbformat": 4,
 "nbformat_minor": 2
}
